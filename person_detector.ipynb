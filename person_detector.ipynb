{
  "nbformat": 4,
  "nbformat_minor": 0,
  "metadata": {
    "colab": {
      "name": "person_detector.ipynb",
      "provenance": [],
      "collapsed_sections": []
    },
    "kernelspec": {
      "name": "python3",
      "display_name": "Python 3"
    },
    "language_info": {
      "name": "python"
    },
    "accelerator": "GPU"
  },
  "cells": [
    {
      "cell_type": "code",
      "metadata": {
        "colab": {
          "base_uri": "https://localhost:8080/"
        },
        "id": "r37VjX5HSmnm",
        "outputId": "a14e7d20-a162-462c-f16f-07dff17a8bf7"
      },
      "source": [
        "!pip install pyyaml==5.1"
      ],
      "execution_count": null,
      "outputs": [
        {
          "output_type": "stream",
          "text": [
            "Collecting pyyaml==5.1\n",
            "\u001b[?25l  Downloading https://files.pythonhosted.org/packages/9f/2c/9417b5c774792634834e730932745bc09a7d36754ca00acf1ccd1ac2594d/PyYAML-5.1.tar.gz (274kB)\n",
            "\r\u001b[K     |█▏                              | 10kB 21.6MB/s eta 0:00:01\r\u001b[K     |██▍                             | 20kB 29.0MB/s eta 0:00:01\r\u001b[K     |███▋                            | 30kB 33.9MB/s eta 0:00:01\r\u001b[K     |████▉                           | 40kB 35.0MB/s eta 0:00:01\r\u001b[K     |██████                          | 51kB 35.4MB/s eta 0:00:01\r\u001b[K     |███████▏                        | 61kB 36.0MB/s eta 0:00:01\r\u001b[K     |████████▍                       | 71kB 30.1MB/s eta 0:00:01\r\u001b[K     |█████████▋                      | 81kB 30.7MB/s eta 0:00:01\r\u001b[K     |██████████▊                     | 92kB 32.3MB/s eta 0:00:01\r\u001b[K     |████████████                    | 102kB 33.4MB/s eta 0:00:01\r\u001b[K     |█████████████▏                  | 112kB 33.4MB/s eta 0:00:01\r\u001b[K     |██████████████▍                 | 122kB 33.4MB/s eta 0:00:01\r\u001b[K     |███████████████▌                | 133kB 33.4MB/s eta 0:00:01\r\u001b[K     |████████████████▊               | 143kB 33.4MB/s eta 0:00:01\r\u001b[K     |██████████████████              | 153kB 33.4MB/s eta 0:00:01\r\u001b[K     |███████████████████▏            | 163kB 33.4MB/s eta 0:00:01\r\u001b[K     |████████████████████▎           | 174kB 33.4MB/s eta 0:00:01\r\u001b[K     |█████████████████████▌          | 184kB 33.4MB/s eta 0:00:01\r\u001b[K     |██████████████████████▊         | 194kB 33.4MB/s eta 0:00:01\r\u001b[K     |████████████████████████        | 204kB 33.4MB/s eta 0:00:01\r\u001b[K     |█████████████████████████       | 215kB 33.4MB/s eta 0:00:01\r\u001b[K     |██████████████████████████▎     | 225kB 33.4MB/s eta 0:00:01\r\u001b[K     |███████████████████████████▌    | 235kB 33.4MB/s eta 0:00:01\r\u001b[K     |████████████████████████████▊   | 245kB 33.4MB/s eta 0:00:01\r\u001b[K     |█████████████████████████████▉  | 256kB 33.4MB/s eta 0:00:01\r\u001b[K     |███████████████████████████████ | 266kB 33.4MB/s eta 0:00:01\r\u001b[K     |████████████████████████████████| 276kB 33.4MB/s \n",
            "\u001b[?25hBuilding wheels for collected packages: pyyaml\n",
            "  Building wheel for pyyaml (setup.py) ... \u001b[?25l\u001b[?25hdone\n",
            "  Created wheel for pyyaml: filename=PyYAML-5.1-cp37-cp37m-linux_x86_64.whl size=44074 sha256=983a964cc403f32c9779d0c79e4257e7b7eb45eb0637c7c0419f57fe088d4224\n",
            "  Stored in directory: /root/.cache/pip/wheels/ad/56/bc/1522f864feb2a358ea6f1a92b4798d69ac783a28e80567a18b\n",
            "Successfully built pyyaml\n",
            "Installing collected packages: pyyaml\n",
            "  Found existing installation: PyYAML 3.13\n",
            "    Uninstalling PyYAML-3.13:\n",
            "      Successfully uninstalled PyYAML-3.13\n",
            "Successfully installed pyyaml-5.1\n"
          ],
          "name": "stdout"
        }
      ]
    },
    {
      "cell_type": "code",
      "metadata": {
        "colab": {
          "base_uri": "https://localhost:8080/"
        },
        "id": "dMDWYnxDXhED",
        "outputId": "855f866d-4d62-481f-e6f7-85a0c24ff349"
      },
      "source": [
        "from google.colab import drive\n",
        "drive.mount('/content/drive')"
      ],
      "execution_count": null,
      "outputs": [
        {
          "output_type": "stream",
          "text": [
            "Mounted at /content/drive\n"
          ],
          "name": "stdout"
        }
      ]
    },
    {
      "cell_type": "code",
      "metadata": {
        "colab": {
          "base_uri": "https://localhost:8080/"
        },
        "id": "Vm0zhbrXSaJp",
        "outputId": "da807c87-32d6-4beb-8842-c4665b6ef150"
      },
      "source": [
        "!pip install detectron2 -f https://dl.fbaipublicfiles.com/detectron2/wheels/cu101/torch1.8/index.html"
      ],
      "execution_count": null,
      "outputs": [
        {
          "output_type": "stream",
          "text": [
            "Looking in links: https://dl.fbaipublicfiles.com/detectron2/wheels/cu101/torch1.8/index.html\n",
            "Collecting detectron2\n",
            "\u001b[?25l  Downloading https://dl.fbaipublicfiles.com/detectron2/wheels/cu101/torch1.8/detectron2-0.4%2Bcu101-cp37-cp37m-linux_x86_64.whl (6.2MB)\n",
            "\u001b[K     |████████████████████████████████| 6.2MB 538kB/s \n",
            "\u001b[?25hRequirement already satisfied: future in /usr/local/lib/python3.7/dist-packages (from detectron2) (0.16.0)\n",
            "Requirement already satisfied: termcolor>=1.1 in /usr/local/lib/python3.7/dist-packages (from detectron2) (1.1.0)\n",
            "Requirement already satisfied: matplotlib in /usr/local/lib/python3.7/dist-packages (from detectron2) (3.2.2)\n",
            "Requirement already satisfied: tqdm>4.29.0 in /usr/local/lib/python3.7/dist-packages (from detectron2) (4.41.1)\n",
            "Requirement already satisfied: cloudpickle in /usr/local/lib/python3.7/dist-packages (from detectron2) (1.3.0)\n",
            "Requirement already satisfied: tensorboard in /usr/local/lib/python3.7/dist-packages (from detectron2) (2.5.0)\n",
            "Collecting yacs>=0.1.6\n",
            "  Downloading https://files.pythonhosted.org/packages/38/4f/fe9a4d472aa867878ce3bb7efb16654c5d63672b86dc0e6e953a67018433/yacs-0.1.8-py3-none-any.whl\n",
            "Requirement already satisfied: tabulate in /usr/local/lib/python3.7/dist-packages (from detectron2) (0.8.9)\n",
            "Collecting fvcore<0.1.4,>=0.1.3\n",
            "\u001b[?25l  Downloading https://files.pythonhosted.org/packages/6b/68/2bacb80e13c4084dfc37fec8f17706a1de4c248157561ff33e463399c4f5/fvcore-0.1.3.post20210317.tar.gz (47kB)\n",
            "\u001b[K     |████████████████████████████████| 51kB 8.2MB/s \n",
            "\u001b[?25hCollecting iopath>=0.1.2\n",
            "  Downloading https://files.pythonhosted.org/packages/21/d0/22104caed16fa41382702fed959f4a9b088b2f905e7a82e4483180a2ec2a/iopath-0.1.8-py3-none-any.whl\n",
            "Requirement already satisfied: pycocotools>=2.0.2 in /usr/local/lib/python3.7/dist-packages (from detectron2) (2.0.2)\n",
            "Requirement already satisfied: Pillow>=7.1 in /usr/local/lib/python3.7/dist-packages (from detectron2) (7.1.2)\n",
            "Collecting omegaconf>=2\n",
            "  Downloading https://files.pythonhosted.org/packages/d0/eb/9d63ce09dd8aa85767c65668d5414958ea29648a0eec80a4a7d311ec2684/omegaconf-2.0.6-py3-none-any.whl\n",
            "Requirement already satisfied: pydot in /usr/local/lib/python3.7/dist-packages (from detectron2) (1.3.0)\n",
            "Requirement already satisfied: kiwisolver>=1.0.1 in /usr/local/lib/python3.7/dist-packages (from matplotlib->detectron2) (1.3.1)\n",
            "Requirement already satisfied: pyparsing!=2.0.4,!=2.1.2,!=2.1.6,>=2.0.1 in /usr/local/lib/python3.7/dist-packages (from matplotlib->detectron2) (2.4.7)\n",
            "Requirement already satisfied: python-dateutil>=2.1 in /usr/local/lib/python3.7/dist-packages (from matplotlib->detectron2) (2.8.1)\n",
            "Requirement already satisfied: cycler>=0.10 in /usr/local/lib/python3.7/dist-packages (from matplotlib->detectron2) (0.10.0)\n",
            "Requirement already satisfied: numpy>=1.11 in /usr/local/lib/python3.7/dist-packages (from matplotlib->detectron2) (1.19.5)\n",
            "Requirement already satisfied: protobuf>=3.6.0 in /usr/local/lib/python3.7/dist-packages (from tensorboard->detectron2) (3.12.4)\n",
            "Requirement already satisfied: tensorboard-data-server<0.7.0,>=0.6.0 in /usr/local/lib/python3.7/dist-packages (from tensorboard->detectron2) (0.6.1)\n",
            "Requirement already satisfied: absl-py>=0.4 in /usr/local/lib/python3.7/dist-packages (from tensorboard->detectron2) (0.12.0)\n",
            "Requirement already satisfied: setuptools>=41.0.0 in /usr/local/lib/python3.7/dist-packages (from tensorboard->detectron2) (56.1.0)\n",
            "Requirement already satisfied: google-auth-oauthlib<0.5,>=0.4.1 in /usr/local/lib/python3.7/dist-packages (from tensorboard->detectron2) (0.4.4)\n",
            "Requirement already satisfied: requests<3,>=2.21.0 in /usr/local/lib/python3.7/dist-packages (from tensorboard->detectron2) (2.23.0)\n",
            "Requirement already satisfied: wheel>=0.26; python_version >= \"3\" in /usr/local/lib/python3.7/dist-packages (from tensorboard->detectron2) (0.36.2)\n",
            "Requirement already satisfied: grpcio>=1.24.3 in /usr/local/lib/python3.7/dist-packages (from tensorboard->detectron2) (1.34.1)\n",
            "Requirement already satisfied: google-auth<2,>=1.6.3 in /usr/local/lib/python3.7/dist-packages (from tensorboard->detectron2) (1.30.0)\n",
            "Requirement already satisfied: markdown>=2.6.8 in /usr/local/lib/python3.7/dist-packages (from tensorboard->detectron2) (3.3.4)\n",
            "Requirement already satisfied: werkzeug>=0.11.15 in /usr/local/lib/python3.7/dist-packages (from tensorboard->detectron2) (1.0.1)\n",
            "Requirement already satisfied: tensorboard-plugin-wit>=1.6.0 in /usr/local/lib/python3.7/dist-packages (from tensorboard->detectron2) (1.8.0)\n",
            "Requirement already satisfied: PyYAML in /usr/local/lib/python3.7/dist-packages (from yacs>=0.1.6->detectron2) (5.1)\n",
            "Collecting portalocker\n",
            "  Downloading https://files.pythonhosted.org/packages/68/33/cb524f4de298509927b90aa5ee34767b9a2b93e663cf354b2a3efa2b4acd/portalocker-2.3.0-py2.py3-none-any.whl\n",
            "Requirement already satisfied: cython>=0.27.3 in /usr/local/lib/python3.7/dist-packages (from pycocotools>=2.0.2->detectron2) (0.29.23)\n",
            "Requirement already satisfied: typing-extensions in /usr/local/lib/python3.7/dist-packages (from omegaconf>=2->detectron2) (3.7.4.3)\n",
            "Requirement already satisfied: six>=1.5 in /usr/local/lib/python3.7/dist-packages (from python-dateutil>=2.1->matplotlib->detectron2) (1.15.0)\n",
            "Requirement already satisfied: requests-oauthlib>=0.7.0 in /usr/local/lib/python3.7/dist-packages (from google-auth-oauthlib<0.5,>=0.4.1->tensorboard->detectron2) (1.3.0)\n",
            "Requirement already satisfied: certifi>=2017.4.17 in /usr/local/lib/python3.7/dist-packages (from requests<3,>=2.21.0->tensorboard->detectron2) (2020.12.5)\n",
            "Requirement already satisfied: urllib3!=1.25.0,!=1.25.1,<1.26,>=1.21.1 in /usr/local/lib/python3.7/dist-packages (from requests<3,>=2.21.0->tensorboard->detectron2) (1.24.3)\n",
            "Requirement already satisfied: chardet<4,>=3.0.2 in /usr/local/lib/python3.7/dist-packages (from requests<3,>=2.21.0->tensorboard->detectron2) (3.0.4)\n",
            "Requirement already satisfied: idna<3,>=2.5 in /usr/local/lib/python3.7/dist-packages (from requests<3,>=2.21.0->tensorboard->detectron2) (2.10)\n",
            "Requirement already satisfied: pyasn1-modules>=0.2.1 in /usr/local/lib/python3.7/dist-packages (from google-auth<2,>=1.6.3->tensorboard->detectron2) (0.2.8)\n",
            "Requirement already satisfied: cachetools<5.0,>=2.0.0 in /usr/local/lib/python3.7/dist-packages (from google-auth<2,>=1.6.3->tensorboard->detectron2) (4.2.2)\n",
            "Requirement already satisfied: rsa<5,>=3.1.4; python_version >= \"3.6\" in /usr/local/lib/python3.7/dist-packages (from google-auth<2,>=1.6.3->tensorboard->detectron2) (4.7.2)\n",
            "Requirement already satisfied: importlib-metadata; python_version < \"3.8\" in /usr/local/lib/python3.7/dist-packages (from markdown>=2.6.8->tensorboard->detectron2) (4.0.1)\n",
            "Requirement already satisfied: oauthlib>=3.0.0 in /usr/local/lib/python3.7/dist-packages (from requests-oauthlib>=0.7.0->google-auth-oauthlib<0.5,>=0.4.1->tensorboard->detectron2) (3.1.0)\n",
            "Requirement already satisfied: pyasn1<0.5.0,>=0.4.6 in /usr/local/lib/python3.7/dist-packages (from pyasn1-modules>=0.2.1->google-auth<2,>=1.6.3->tensorboard->detectron2) (0.4.8)\n",
            "Requirement already satisfied: zipp>=0.5 in /usr/local/lib/python3.7/dist-packages (from importlib-metadata; python_version < \"3.8\"->markdown>=2.6.8->tensorboard->detectron2) (3.4.1)\n",
            "Building wheels for collected packages: fvcore\n",
            "  Building wheel for fvcore (setup.py) ... \u001b[?25l\u001b[?25hdone\n",
            "  Created wheel for fvcore: filename=fvcore-0.1.3.post20210317-cp37-none-any.whl size=58543 sha256=25aac0096be44538f1db14d2dfad218a0e923e5aea48fadb60f2d7e3578caa63\n",
            "  Stored in directory: /root/.cache/pip/wheels/d2/ee/3a/5c531df777c03d8c67f22c65f97d6f75321087482d05a9b218\n",
            "Successfully built fvcore\n",
            "Installing collected packages: yacs, portalocker, iopath, fvcore, omegaconf, detectron2\n",
            "Successfully installed detectron2-0.4+cu101 fvcore-0.1.3.post20210317 iopath-0.1.8 omegaconf-2.0.6 portalocker-2.3.0 yacs-0.1.8\n"
          ],
          "name": "stdout"
        }
      ]
    },
    {
      "cell_type": "code",
      "metadata": {
        "colab": {
          "base_uri": "https://localhost:8080/"
        },
        "id": "T03oYh9e02qj",
        "outputId": "33ac94e4-f88b-46be-fdad-96e848f8f608"
      },
      "source": [
        "!pip install webvtt-py"
      ],
      "execution_count": null,
      "outputs": [
        {
          "output_type": "stream",
          "text": [
            "Collecting webvtt-py\n",
            "  Downloading https://files.pythonhosted.org/packages/1b/83/115b001f8c79f9580834faf214062b1ff69f61c62ab1a5c3c1e5e347d4a3/webvtt_py-0.4.6-py3-none-any.whl\n",
            "Requirement already satisfied: docopt in /usr/local/lib/python3.7/dist-packages (from webvtt-py) (0.6.2)\n",
            "Installing collected packages: webvtt-py\n",
            "Successfully installed webvtt-py-0.4.6\n"
          ],
          "name": "stdout"
        }
      ]
    },
    {
      "cell_type": "code",
      "metadata": {
        "id": "4vVIF5yJRujM"
      },
      "source": [
        "import torch, torchvision\n",
        "\n",
        "# Setup detectron2 logger\n",
        "import detectron2\n",
        "from detectron2.utils.logger import setup_logger\n",
        "\n",
        "setup_logger()\n",
        "\n",
        "# import some common libraries\n",
        "import numpy as np\n",
        "import os, json, cv2, random\n",
        "\n",
        "from detectron2 import model_zoo\n",
        "from detectron2.engine import DefaultPredictor\n",
        "from detectron2.config import get_cfg\n",
        "from detectron2.utils.visualizer import Visualizer\n",
        "from detectron2.data import MetadataCatalog, DatasetCatalog"
      ],
      "execution_count": null,
      "outputs": []
    },
    {
      "cell_type": "code",
      "metadata": {
        "colab": {
          "base_uri": "https://localhost:8080/"
        },
        "id": "jUkdGkkCR2zR",
        "outputId": "1f2cbf81-b6fe-4773-cd3d-89c084da27bd"
      },
      "source": [
        "cfg = get_cfg()\n",
        "cfg.merge_from_file(\n",
        "    model_zoo.get_config_file(\"COCO-InstanceSegmentation/mask_rcnn_R_50_FPN_3x.yaml\")\n",
        ")\n",
        "cfg.MODEL.ROI_HEADS.SCORE_THRESH_TEST = 0.8  # set threshold for this model\n",
        "cfg.MODEL.WEIGHTS = model_zoo.get_checkpoint_url(\n",
        "    \"COCO-InstanceSegmentation/mask_rcnn_R_50_FPN_3x.yaml\"\n",
        ")\n",
        "predictor = DefaultPredictor(cfg)"
      ],
      "execution_count": null,
      "outputs": [
        {
          "output_type": "stream",
          "text": [
            "model_final_f10217.pkl: 178MB [00:08, 20.2MB/s]                           \n"
          ],
          "name": "stderr"
        }
      ]
    },
    {
      "cell_type": "code",
      "metadata": {
        "id": "Xc_kaZqKTCY-"
      },
      "source": [
        "def get_predictions(image, height_thresh=0.75, person_label=0):\n",
        "    outputs = predictor(image)\n",
        "    im_h, im_w, _ = image.shape\n",
        "    pred_classes = outputs[\"instances\"].pred_classes.cpu().numpy()\n",
        "    pred_boxes = outputs[\"instances\"].pred_boxes.tensor.cpu().numpy()\n",
        "    signer_cnt = 1\n",
        "    signer_bboxes = []\n",
        "    for class_, bbox_ in zip(pred_classes, pred_boxes):\n",
        "        if class_ == person_label:\n",
        "            x1, y1, w, h = bbox_[0], bbox_[1], bbox_[2] - bbox_[0], bbox_[3] - bbox_[1]\n",
        "            print(\"h=\", h, \"im_h=\", im_h)\n",
        "            if h >= im_h * height_thresh:\n",
        "                signer_bboxes.append(bbox_)\n",
        "                img_with_bbox = cv2.rectangle(\n",
        "                    image, (x1, y1), (x1 + w, y1 + h), (0, 255, 0), 2\n",
        "                )\n",
        "                cv2.putText(\n",
        "                    img_with_bbox,\n",
        "                    str(signer_cnt),\n",
        "                    (int(x1) + 15, int(y1) + 35),\n",
        "                    cv2.FONT_HERSHEY_SIMPLEX,\n",
        "                    0.9,\n",
        "                    (36, 255, 12),\n",
        "                    3,\n",
        "                )\n",
        "                signer_cnt += 1\n",
        "\n",
        "    return signer_bboxes, img_with_bbox"
      ],
      "execution_count": null,
      "outputs": []
    },
    {
      "cell_type": "code",
      "metadata": {
        "id": "s1HiOomZX_lx"
      },
      "source": [
        "def get_bboxes_for_crop(image, bboxes, pad_scale=0.13):\n",
        "    im_h, im_w, _ = image.shape\n",
        "    # To (x1,y1, x2,y2)\n",
        "    bboxes_formatted = [\n",
        "        bboxes[0][0],\n",
        "        bboxes[0][1],\n",
        "        (bboxes[0][0] + bboxes[0][2]),\n",
        "        (bboxes[0][1] + bboxes[0][3]),\n",
        "    ]\n",
        "    new_x1 = (\n",
        "        (bboxes_formatted[0] - (pad_scale * im_w))\n",
        "        if (bboxes_formatted[0] - (pad_scale * im_w)) > 0\n",
        "        else 0\n",
        "    )\n",
        "    new_x2 = (\n",
        "        (bboxes_formatted[2] + (pad_scale * im_w))\n",
        "        if (bboxes_formatted[2] + (pad_scale * im_w)) < im_w\n",
        "        else im_w\n",
        "    )\n",
        "    padded_bboxes = [new_x1, 0, new_x2, im_h]\n",
        "    # To (x1,y1,w,h)\n",
        "    bboxes_formatted = [\n",
        "        padded_bboxes[0],\n",
        "        padded_bboxes[1],\n",
        "        (padded_bboxes[2] - padded_bboxes[0]),\n",
        "        (padded_bboxes[3] - padded_bboxes[1]),\n",
        "    ]\n",
        "\n",
        "    return bboxes_formatted"
      ],
      "execution_count": null,
      "outputs": []
    },
    {
      "cell_type": "code",
      "metadata": {
        "id": "CekWpcYmYL4k",
        "colab": {
          "base_uri": "https://localhost:8080/"
        },
        "outputId": "fc39ac29-b6cc-4370-b7f7-2e75b1f9aff1"
      },
      "source": [
        "image = cv2.imread(\n",
        "    \"/content/drive/MyDrive/filename00500.png\"\n",
        ")\n",
        "bboxes, image_with_txt = get_predictions(image)\n",
        "new_bboxes = get_bboxes_for_crop(image, bboxes)"
      ],
      "execution_count": null,
      "outputs": [
        {
          "output_type": "stream",
          "text": [
            "h= 558.51245 im_h= 720\n"
          ],
          "name": "stdout"
        }
      ]
    },
    {
      "cell_type": "code",
      "metadata": {
        "colab": {
          "base_uri": "https://localhost:8080/"
        },
        "id": "0sRSEO_ID-4f",
        "outputId": "b3cb85ed-bcca-4a56-8fdc-617006f33da4"
      },
      "source": [
        "new_bboxes"
      ],
      "execution_count": null,
      "outputs": [
        {
          "output_type": "execute_result",
          "data": {
            "text/plain": [
              "[512.0556884765625, 0, 767.9443115234375, 720]"
            ]
          },
          "metadata": {
            "tags": []
          },
          "execution_count": 10
        }
      ]
    },
    {
      "cell_type": "code",
      "metadata": {
        "id": "k4HMs_D3EvEa",
        "colab": {
          "base_uri": "https://localhost:8080/"
        },
        "outputId": "473e6c70-fc14-43e7-8b0d-2b47a728e0de"
      },
      "source": [
        "!ffmpeg -i /content/drive/MyDrive/'Clear Clear Clear Body.mp4' -filter:v \"crop=450:720:(512.0556884765625+767.9443115234375)/2+75:0\" final.mp4"
      ],
      "execution_count": null,
      "outputs": [
        {
          "output_type": "stream",
          "text": [
            "ffmpeg version 3.4.8-0ubuntu0.2 Copyright (c) 2000-2020 the FFmpeg developers\n",
            "  built with gcc 7 (Ubuntu 7.5.0-3ubuntu1~18.04)\n",
            "  configuration: --prefix=/usr --extra-version=0ubuntu0.2 --toolchain=hardened --libdir=/usr/lib/x86_64-linux-gnu --incdir=/usr/include/x86_64-linux-gnu --enable-gpl --disable-stripping --enable-avresample --enable-avisynth --enable-gnutls --enable-ladspa --enable-libass --enable-libbluray --enable-libbs2b --enable-libcaca --enable-libcdio --enable-libflite --enable-libfontconfig --enable-libfreetype --enable-libfribidi --enable-libgme --enable-libgsm --enable-libmp3lame --enable-libmysofa --enable-libopenjpeg --enable-libopenmpt --enable-libopus --enable-libpulse --enable-librubberband --enable-librsvg --enable-libshine --enable-libsnappy --enable-libsoxr --enable-libspeex --enable-libssh --enable-libtheora --enable-libtwolame --enable-libvorbis --enable-libvpx --enable-libwavpack --enable-libwebp --enable-libx265 --enable-libxml2 --enable-libxvid --enable-libzmq --enable-libzvbi --enable-omx --enable-openal --enable-opengl --enable-sdl2 --enable-libdc1394 --enable-libdrm --enable-libiec61883 --enable-chromaprint --enable-frei0r --enable-libopencv --enable-libx264 --enable-shared\n",
            "  libavutil      55. 78.100 / 55. 78.100\n",
            "  libavcodec     57.107.100 / 57.107.100\n",
            "  libavformat    57. 83.100 / 57. 83.100\n",
            "  libavdevice    57. 10.100 / 57. 10.100\n",
            "  libavfilter     6.107.100 /  6.107.100\n",
            "  libavresample   3.  7.  0 /  3.  7.  0\n",
            "  libswscale      4.  8.100 /  4.  8.100\n",
            "  libswresample   2.  9.100 /  2.  9.100\n",
            "  libpostproc    54.  7.100 / 54.  7.100\n",
            "Input #0, mov,mp4,m4a,3gp,3g2,mj2, from '/content/drive/MyDrive/Clear Clear Clear Body.mp4':\n",
            "  Metadata:\n",
            "    major_brand     : mp42\n",
            "    minor_version   : 0\n",
            "    compatible_brands: isommp42\n",
            "    creation_time   : 2020-08-20T14:16:43.000000Z\n",
            "    encoder         : Google\n",
            "  Duration: 00:03:35.85, start: 0.000000, bitrate: 1023 kb/s\n",
            "    Stream #0:0(und): Video: h264 (High) (avc1 / 0x31637661), yuv420p(tv, bt709), 1280x720 [SAR 1:1 DAR 16:9], 892 kb/s, 30 fps, 30 tbr, 15360 tbn, 60 tbc (default)\n",
            "    Metadata:\n",
            "      creation_time   : 2020-08-20T14:16:43.000000Z\n",
            "      handler_name    : ISO Media file produced by Google Inc. Created on: 08/20/2020.\n",
            "    Stream #0:1(eng): Audio: aac (LC) (mp4a / 0x6134706D), 44100 Hz, stereo, fltp, 128 kb/s (default)\n",
            "    Metadata:\n",
            "      creation_time   : 2020-08-20T14:16:43.000000Z\n",
            "      handler_name    : ISO Media file produced by Google Inc. Created on: 08/20/2020.\n",
            "Stream mapping:\n",
            "  Stream #0:0 -> #0:0 (h264 (native) -> h264 (libx264))\n",
            "  Stream #0:1 -> #0:1 (aac (native) -> aac (native))\n",
            "Press [q] to stop, [?] for help\n",
            "\u001b[1;36m[libx264 @ 0x555966374d00] \u001b[0musing SAR=1/1\n",
            "\u001b[1;36m[libx264 @ 0x555966374d00] \u001b[0musing cpu capabilities: MMX2 SSE2Fast SSSE3 SSE4.2 AVX FMA3 BMI2 AVX2\n",
            "\u001b[1;36m[libx264 @ 0x555966374d00] \u001b[0mprofile High, level 3.0\n",
            "\u001b[1;36m[libx264 @ 0x555966374d00] \u001b[0m264 - core 152 r2854 e9a5903 - H.264/MPEG-4 AVC codec - Copyleft 2003-2017 - http://www.videolan.org/x264.html - options: cabac=1 ref=3 deblock=1:0:0 analyse=0x3:0x113 me=hex subme=7 psy=1 psy_rd=1.00:0.00 mixed_ref=1 me_range=16 chroma_me=1 trellis=1 8x8dct=1 cqm=0 deadzone=21,11 fast_pskip=1 chroma_qp_offset=-2 threads=3 lookahead_threads=1 sliced_threads=0 nr=0 decimate=1 interlaced=0 bluray_compat=0 constrained_intra=0 bframes=3 b_pyramid=2 b_adapt=1 b_bias=0 direct=1 weightb=1 open_gop=0 weightp=2 keyint=250 keyint_min=25 scenecut=40 intra_refresh=0 rc_lookahead=40 rc=crf mbtree=1 crf=23.0 qcomp=0.60 qpmin=0 qpmax=69 qpstep=4 ip_ratio=1.40 aq=1:1.00\n",
            "Output #0, mp4, to 'final.mp4':\n",
            "  Metadata:\n",
            "    major_brand     : mp42\n",
            "    minor_version   : 0\n",
            "    compatible_brands: isommp42\n",
            "    encoder         : Lavf57.83.100\n",
            "    Stream #0:0(und): Video: h264 (libx264) (avc1 / 0x31637661), yuv420p(progressive), 450x720 [SAR 1:1 DAR 5:8], q=-1--1, 30 fps, 15360 tbn, 30 tbc (default)\n",
            "    Metadata:\n",
            "      creation_time   : 2020-08-20T14:16:43.000000Z\n",
            "      handler_name    : ISO Media file produced by Google Inc. Created on: 08/20/2020.\n",
            "      encoder         : Lavc57.107.100 libx264\n",
            "    Side data:\n",
            "      cpb: bitrate max/min/avg: 0/0/0 buffer size: 0 vbv_delay: -1\n",
            "    Stream #0:1(eng): Audio: aac (LC) (mp4a / 0x6134706D), 44100 Hz, stereo, fltp, 128 kb/s (default)\n",
            "    Metadata:\n",
            "      creation_time   : 2020-08-20T14:16:43.000000Z\n",
            "      handler_name    : ISO Media file produced by Google Inc. Created on: 08/20/2020.\n",
            "      encoder         : Lavc57.107.100 aac\n",
            "frame=  139 fps=115 q=-1.0 Lsize=     182kB time=00:00:04.53 bitrate= 328.0kbits/s speed=3.75x    \n",
            "video:106kB audio:69kB subtitle:0kB other streams:0kB global headers:0kB muxing overhead: 3.362382%\n",
            "\u001b[1;36m[libx264 @ 0x555966374d00] \u001b[0mframe I:1     Avg QP:15.88  size:  5101\n",
            "\u001b[1;36m[libx264 @ 0x555966374d00] \u001b[0mframe P:67    Avg QP:17.38  size:  1317\n",
            "\u001b[1;36m[libx264 @ 0x555966374d00] \u001b[0mframe B:71    Avg QP:23.61  size:   209\n",
            "\u001b[1;36m[libx264 @ 0x555966374d00] \u001b[0mconsecutive B-frames: 25.9% 15.8%  6.5% 51.8%\n",
            "\u001b[1;36m[libx264 @ 0x555966374d00] \u001b[0mmb I  I16..4: 40.5% 53.4%  6.1%\n",
            "\u001b[1;36m[libx264 @ 0x555966374d00] \u001b[0mmb P  I16..4:  1.2%  0.7%  0.6%  P16..4: 10.9%  1.6%  1.0%  0.0%  0.0%    skip:83.9%\n",
            "\u001b[1;36m[libx264 @ 0x555966374d00] \u001b[0mmb B  I16..4:  0.3%  0.1%  0.0%  B16..8:  6.2%  0.3%  0.0%  direct: 0.5%  skip:92.6%  L0:46.9% L1:52.3% BI: 0.8%\n",
            "\u001b[1;36m[libx264 @ 0x555966374d00] \u001b[0m8x8 transform intra:36.0% inter:52.6%\n",
            "\u001b[1;36m[libx264 @ 0x555966374d00] \u001b[0mcoded y,uvDC,uvAC intra: 22.7% 62.9% 24.3% inter: 1.4% 2.9% 1.0%\n",
            "\u001b[1;36m[libx264 @ 0x555966374d00] \u001b[0mi16 v,h,dc,p: 31% 44% 11% 14%\n",
            "\u001b[1;36m[libx264 @ 0x555966374d00] \u001b[0mi8 v,h,dc,ddl,ddr,vr,hd,vl,hu: 44% 17% 31%  1%  2%  2%  1%  1%  1%\n",
            "\u001b[1;36m[libx264 @ 0x555966374d00] \u001b[0mi4 v,h,dc,ddl,ddr,vr,hd,vl,hu: 45% 21% 18%  2%  3%  3%  3%  3%  3%\n",
            "\u001b[1;36m[libx264 @ 0x555966374d00] \u001b[0mi8c dc,h,v,p: 31% 41% 21%  7%\n",
            "\u001b[1;36m[libx264 @ 0x555966374d00] \u001b[0mWeighted P-Frames: Y:4.5% UV:0.0%\n",
            "\u001b[1;36m[libx264 @ 0x555966374d00] \u001b[0mref P L0: 45.5%  2.5% 40.4% 10.8%  0.8%\n",
            "\u001b[1;36m[libx264 @ 0x555966374d00] \u001b[0mref B L0: 82.2%  9.3%  8.5%\n",
            "\u001b[1;36m[libx264 @ 0x555966374d00] \u001b[0mref B L1: 98.8%  1.2%\n",
            "\u001b[1;36m[libx264 @ 0x555966374d00] \u001b[0mkb/s:186.81\n",
            "\u001b[1;36m[aac @ 0x555966396000] \u001b[0mQavg: 3424.268\n",
            "Exiting normally, received signal 2.\n"
          ],
          "name": "stdout"
        }
      ]
    },
    {
      "cell_type": "code",
      "metadata": {
        "colab": {
          "base_uri": "https://localhost:8080/"
        },
        "id": "r_zxCUKaywq-",
        "outputId": "0d347826-625a-4246-9620-db8f0751c0a7"
      },
      "source": [
        "from webvtt import WebVTT\n",
        "from tqdm import tqdm\n",
        "import datetime\n",
        "import copy\n",
        "import hashlib\n",
        "import os\n",
        "import io\n",
        "from joblib import Parallel, delayed\n",
        "import multiprocessing\n",
        "\n",
        "\n",
        "PATH = \"/content/drive/MyDrive/Test\"\n",
        "SUBS_PATH = \"/content/drive/MyDrive/Test\"\n",
        "SAVE_PATH = \"/content/drive/MyDrive/Test\"\n",
        "\n",
        "n_cores = multiprocessing.cpu_count()\n",
        "\n",
        "def get_hash(content):\n",
        "    return hashlib.sha224(content.encode('utf-8')).hexdigest()\n",
        "\n",
        "def load_all_subtitles(subtitle_file):\n",
        "    subs = WebVTT().read(subtitle_file).captions  \n",
        "    res = []\n",
        "    for s_idx, s in enumerate(subs):\n",
        "        start_ts = parse_ts(s.start).time()\n",
        "        end_ts = parse_ts(s.end).time()\n",
        "        phrase = s.text\n",
        "        phrase = phrase.replace('\\n', ' ')\n",
        "        delta = timedelta_dt(start_ts, end_ts)\n",
        "        res.append(\n",
        "            {\"ts_start\": start_ts, \n",
        "             \"ts_end\": end_ts,\n",
        "             \"text\": phrase,\n",
        "             \"sub_file\": subtitle_file,\n",
        "             \"duration\": delta.total_seconds(),\n",
        "             \"idx\": s_idx}\n",
        "        )\n",
        "    return res\n",
        "\n",
        "\n",
        "def parse_ts(ts_string):\n",
        "    if ' ' in ts_string:\n",
        "        ts_string = ts_string.split()[0]\n",
        "    ts = datetime.datetime.strptime(ts_string, '%H:%M:%S.%f')\n",
        "    return ts\n",
        "\n",
        "def timedelta_dt(t1, t2):\n",
        "    dt1 = datetime.timedelta(hours=t1.hour, minutes=t1.minute,\n",
        "                             seconds=t1.second, microseconds=t1.microsecond)\n",
        "    dt2 = datetime.timedelta(hours=t2.hour, minutes=t2.minute,\n",
        "                             seconds=t2.second, microseconds=t2.microsecond)\n",
        "    return dt2 - dt1\n",
        "\n",
        "\n",
        "def merge_subtitles_delimiter_based(subs, delimiters=['.','!','?']):\n",
        "  res = []\n",
        "  last_delimiter_occur = -1\n",
        "  start_end_indices = []\n",
        "  for s_idx in range(len(subs)):\n",
        "    s = subs[s_idx]\n",
        "    if s[\"text\"][-1] in delimiters or s_idx == len(subs)-1:\n",
        "      start_end_indices.append((last_delimiter_occur, s_idx))\n",
        "      last_delimiter_occur = s_idx\n",
        "\n",
        "  for index, (start,end) in enumerate(start_end_indices):\n",
        "    new_sub = copy.deepcopy(subs[start+1])\n",
        "    new_sub[\"idx\"] = index\n",
        "    for i in subs[start+2:end+1]:\n",
        "      new_sub[\"ts_end\"] = i[\"ts_end\"]\n",
        "      new_sub[\"text\"]+=i[\"text\"]\n",
        "      new_delta = timedelta_dt(new_sub[\"ts_start\"], new_sub[\"ts_end\"])\n",
        "      new_sub[\"duration\"] = new_delta.total_seconds()\n",
        "    res.append(new_sub)\n",
        "\n",
        "  return res\n",
        "\n",
        "def crop_and_save_file(video_file, sub, mp4_save_dir, sub_save_dir):\n",
        "    hash = get_hash(\n",
        "        sub_save_dir + sub[\"text\"] + str(sub[\"ts_start\"]))\n",
        "    timing_start = sub[\"ts_start\"]\n",
        "    timing_end = sub[\"ts_end\"]\n",
        "    text = sub[\"text\"]\n",
        "    \n",
        "    start_h, start_m, start_s, start_msec = timing_start.hour, timing_start.minute, \\\n",
        "                                                timing_start.second, timing_start.microsecond // 1000\n",
        "    end_h, end_m, end_s, end_msec = timing_end.hour, timing_end.minute, \\\n",
        "                                        timing_end.second, timing_end.microsecond // 1000\n",
        "\n",
        "    target_vid_file = os.path.join(mp4_save_dir, hash + \".mp4\")\n",
        "    target_sub_file = os.path.join(sub_save_dir, hash + \".txt\")\n",
        "    \n",
        "    try:    \n",
        "        res = os.system(\"ffmpeg -hide_banner -loglevel warning -i {0} -ss {1}:{2}:{3}.{4}  -to {5}:{6}:{7}.{8} {9}\".format(video_file, start_h, start_m, start_s, start_msec, end_h, end_m, end_s, end_msec, target_vid_file ))\n",
        "        print(res)\n",
        "        if res !=0:\n",
        "            raise Exception('ffmpeg error')\n",
        "        with io.open(target_sub_file, \"w\", encoding='utf-8') as f:\n",
        "            f.write(text)\n",
        "    except Exception as e:\n",
        "        print(e, \"-->\", video_file)\n",
        "        \n",
        "    return\n",
        "     \n",
        "def run_for_file(file, PATH):   \n",
        "    if file.endswith(\".mp4\"):\n",
        "        video_file = os.path.join(PATH, file)\n",
        "        try:\n",
        "            subtitle_file = os.path.join(SUBS_PATH, file.replace(\"mp4\", \"en-GB.vtt\"))\n",
        "            \n",
        "            if not os.path.exists(subtitle_file):\n",
        "                raise Exception(\"Subtitle file or Info files do not exist.\")\n",
        "\n",
        "            subs = load_all_subtitles(subtitle_file)\n",
        "            res_subs =  merge_subtitles_delimiter_based(subs)\n",
        "        \n",
        "            mp4_save_dir = os.path.join(SAVE_PATH, os.path.splitext(os.path.basename(video_file))[0], \"vid\")\n",
        "            sub_save_dir = os.path.join(SAVE_PATH, os.path.splitext(os.path.basename(video_file))[0] ,\"subs\")\n",
        "            os.makedirs(mp4_save_dir, exist_ok=True)\n",
        "            os.makedirs(sub_save_dir, exist_ok=True)    \n",
        "            i=0\n",
        "            for sub in res_subs:\n",
        "                i+=1\n",
        "                crop_and_save_file(video_file, sub, mp4_save_dir, sub_save_dir)\n",
        "            \n",
        "        except Exception as e:\n",
        "            print(e)\n",
        "            #pass\n",
        "   \n",
        "Parallel(n_jobs=n_cores, backend=\"multiprocessing\")(delayed(run_for_file)(file, PATH)\n",
        "                            for file in tqdm(os.listdir(PATH)))"
      ],
      "execution_count": null,
      "outputs": [
        {
          "output_type": "stream",
          "text": [
            "100%|██████████| 3/3 [00:00<00:00, 25.13it/s]\n"
          ],
          "name": "stderr"
        },
        {
          "output_type": "stream",
          "text": [
            "0\n",
            "0\n",
            "0\n",
            "0\n",
            "0\n",
            "0\n",
            "0\n",
            "0\n",
            "0\n",
            "0\n",
            "0\n",
            "0\n",
            "0\n",
            "0\n",
            "0\n",
            "0\n",
            "0\n",
            "0\n",
            "0\n",
            "0\n",
            "0\n",
            "0\n",
            "0\n",
            "0\n",
            "0\n",
            "0\n",
            "0\n",
            "0\n",
            "0\n",
            "0\n",
            "0\n",
            "0\n",
            "0\n",
            "0\n"
          ],
          "name": "stdout"
        },
        {
          "output_type": "execute_result",
          "data": {
            "text/plain": [
              "[None, None, None]"
            ]
          },
          "metadata": {
            "tags": []
          },
          "execution_count": 20
        }
      ]
    },
    {
      "cell_type": "code",
      "metadata": {
        "id": "s-3Ng0_ML7F7"
      },
      "source": [
        ""
      ],
      "execution_count": null,
      "outputs": []
    }
  ]
}